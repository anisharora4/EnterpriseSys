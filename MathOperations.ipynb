{
  "nbformat": 4,
  "nbformat_minor": 0,
  "metadata": {
    "colab": {
      "name": "MathOperations.ipynb",
      "provenance": [],
      "authorship_tag": "ABX9TyNJUFFdIzKPEHJQQwIDx1aD",
      "include_colab_link": true
    },
    "kernelspec": {
      "name": "python3",
      "display_name": "Python 3"
    }
  },
  "cells": [
    {
      "cell_type": "markdown",
      "metadata": {
        "id": "view-in-github",
        "colab_type": "text"
      },
      "source": [
        "<a href=\"https://colab.research.google.com/github/anisharora4/EnterpriseSys/blob/main/MathOperations.ipynb\" target=\"_parent\"><img src=\"https://colab.research.google.com/assets/colab-badge.svg\" alt=\"Open In Colab\"/></a>"
      ]
    },
    {
      "cell_type": "code",
      "metadata": {
        "colab": {
          "base_uri": "https://localhost:8080/"
        },
        "id": "0j4aH9qeyE8S",
        "outputId": "a2a2aea5-eb4e-48de-a6f1-7842ecfcc54f"
      },
      "source": [
        "x=10\r\n",
        "y=5\r\n",
        "print (x/y)\r\n",
        "print (x*y)\r\n",
        "print (x+y)\r\n",
        "print (x-y)"
      ],
      "execution_count": 1,
      "outputs": [
        {
          "output_type": "stream",
          "text": [
            "2.0\n",
            "50\n",
            "15\n",
            "5\n"
          ],
          "name": "stdout"
        }
      ]
    }
  ]
}